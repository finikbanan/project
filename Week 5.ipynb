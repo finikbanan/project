{
 "cells": [
  {
   "cell_type": "code",
   "execution_count": 1,
   "metadata": {},
   "outputs": [],
   "source": [
    "from sklearn import linear_model\n",
    "from sklearn.model_selection import GridSearchCV\n",
    "from datetime import timedelta\n",
    "import pandas as pd\n",
    "import numpy as np\n",
    "import matplotlib.pyplot as plt"
   ]
  },
  {
   "cell_type": "markdown",
   "metadata": {},
   "source": [
    "**Исходные данные**"
   ]
  },
  {
   "cell_type": "code",
   "execution_count": 2,
   "metadata": {},
   "outputs": [
    {
     "data": {
      "text/html": [
       "<div>\n",
       "<style scoped>\n",
       "    .dataframe tbody tr th:only-of-type {\n",
       "        vertical-align: middle;\n",
       "    }\n",
       "\n",
       "    .dataframe tbody tr th {\n",
       "        vertical-align: top;\n",
       "    }\n",
       "\n",
       "    .dataframe thead th {\n",
       "        text-align: right;\n",
       "    }\n",
       "</style>\n",
       "<table border=\"1\" class=\"dataframe\">\n",
       "  <thead>\n",
       "    <tr style=\"text-align: right;\">\n",
       "      <th></th>\n",
       "      <th>1</th>\n",
       "      <th>2</th>\n",
       "      <th>3</th>\n",
       "      <th>4</th>\n",
       "      <th>5</th>\n",
       "      <th>6</th>\n",
       "      <th>7</th>\n",
       "      <th>8</th>\n",
       "      <th>9</th>\n",
       "      <th>10</th>\n",
       "      <th>...</th>\n",
       "      <th>2491</th>\n",
       "      <th>2492</th>\n",
       "      <th>2493</th>\n",
       "      <th>2494</th>\n",
       "      <th>2495</th>\n",
       "      <th>2496</th>\n",
       "      <th>2497</th>\n",
       "      <th>2498</th>\n",
       "      <th>2499</th>\n",
       "      <th>2500</th>\n",
       "    </tr>\n",
       "    <tr>\n",
       "      <th>dt</th>\n",
       "      <th></th>\n",
       "      <th></th>\n",
       "      <th></th>\n",
       "      <th></th>\n",
       "      <th></th>\n",
       "      <th></th>\n",
       "      <th></th>\n",
       "      <th></th>\n",
       "      <th></th>\n",
       "      <th></th>\n",
       "      <th></th>\n",
       "      <th></th>\n",
       "      <th></th>\n",
       "      <th></th>\n",
       "      <th></th>\n",
       "      <th></th>\n",
       "      <th></th>\n",
       "      <th></th>\n",
       "      <th></th>\n",
       "      <th></th>\n",
       "      <th></th>\n",
       "    </tr>\n",
       "  </thead>\n",
       "  <tbody>\n",
       "    <tr>\n",
       "      <th>2016-01-01 00:00:00</th>\n",
       "      <td>0.0</td>\n",
       "      <td>0.0</td>\n",
       "      <td>0.0</td>\n",
       "      <td>0.0</td>\n",
       "      <td>0.0</td>\n",
       "      <td>0.0</td>\n",
       "      <td>0.0</td>\n",
       "      <td>0.0</td>\n",
       "      <td>0.0</td>\n",
       "      <td>0.0</td>\n",
       "      <td>...</td>\n",
       "      <td>0.0</td>\n",
       "      <td>0.0</td>\n",
       "      <td>0.0</td>\n",
       "      <td>0.0</td>\n",
       "      <td>0.0</td>\n",
       "      <td>0.0</td>\n",
       "      <td>0.0</td>\n",
       "      <td>0.0</td>\n",
       "      <td>0.0</td>\n",
       "      <td>0.0</td>\n",
       "    </tr>\n",
       "    <tr>\n",
       "      <th>2016-01-01 01:00:00</th>\n",
       "      <td>0.0</td>\n",
       "      <td>0.0</td>\n",
       "      <td>0.0</td>\n",
       "      <td>0.0</td>\n",
       "      <td>0.0</td>\n",
       "      <td>0.0</td>\n",
       "      <td>0.0</td>\n",
       "      <td>0.0</td>\n",
       "      <td>0.0</td>\n",
       "      <td>0.0</td>\n",
       "      <td>...</td>\n",
       "      <td>0.0</td>\n",
       "      <td>0.0</td>\n",
       "      <td>0.0</td>\n",
       "      <td>0.0</td>\n",
       "      <td>0.0</td>\n",
       "      <td>0.0</td>\n",
       "      <td>0.0</td>\n",
       "      <td>0.0</td>\n",
       "      <td>0.0</td>\n",
       "      <td>0.0</td>\n",
       "    </tr>\n",
       "    <tr>\n",
       "      <th>2016-01-01 02:00:00</th>\n",
       "      <td>0.0</td>\n",
       "      <td>0.0</td>\n",
       "      <td>0.0</td>\n",
       "      <td>0.0</td>\n",
       "      <td>0.0</td>\n",
       "      <td>0.0</td>\n",
       "      <td>0.0</td>\n",
       "      <td>0.0</td>\n",
       "      <td>0.0</td>\n",
       "      <td>0.0</td>\n",
       "      <td>...</td>\n",
       "      <td>0.0</td>\n",
       "      <td>0.0</td>\n",
       "      <td>0.0</td>\n",
       "      <td>0.0</td>\n",
       "      <td>0.0</td>\n",
       "      <td>0.0</td>\n",
       "      <td>0.0</td>\n",
       "      <td>0.0</td>\n",
       "      <td>0.0</td>\n",
       "      <td>0.0</td>\n",
       "    </tr>\n",
       "    <tr>\n",
       "      <th>2016-01-01 03:00:00</th>\n",
       "      <td>0.0</td>\n",
       "      <td>0.0</td>\n",
       "      <td>0.0</td>\n",
       "      <td>0.0</td>\n",
       "      <td>0.0</td>\n",
       "      <td>0.0</td>\n",
       "      <td>0.0</td>\n",
       "      <td>0.0</td>\n",
       "      <td>0.0</td>\n",
       "      <td>0.0</td>\n",
       "      <td>...</td>\n",
       "      <td>0.0</td>\n",
       "      <td>0.0</td>\n",
       "      <td>0.0</td>\n",
       "      <td>0.0</td>\n",
       "      <td>0.0</td>\n",
       "      <td>0.0</td>\n",
       "      <td>0.0</td>\n",
       "      <td>0.0</td>\n",
       "      <td>0.0</td>\n",
       "      <td>0.0</td>\n",
       "    </tr>\n",
       "    <tr>\n",
       "      <th>2016-01-01 04:00:00</th>\n",
       "      <td>0.0</td>\n",
       "      <td>0.0</td>\n",
       "      <td>0.0</td>\n",
       "      <td>0.0</td>\n",
       "      <td>0.0</td>\n",
       "      <td>0.0</td>\n",
       "      <td>0.0</td>\n",
       "      <td>0.0</td>\n",
       "      <td>0.0</td>\n",
       "      <td>0.0</td>\n",
       "      <td>...</td>\n",
       "      <td>0.0</td>\n",
       "      <td>0.0</td>\n",
       "      <td>0.0</td>\n",
       "      <td>0.0</td>\n",
       "      <td>0.0</td>\n",
       "      <td>0.0</td>\n",
       "      <td>0.0</td>\n",
       "      <td>0.0</td>\n",
       "      <td>0.0</td>\n",
       "      <td>0.0</td>\n",
       "    </tr>\n",
       "  </tbody>\n",
       "</table>\n",
       "<p>5 rows × 2500 columns</p>\n",
       "</div>"
      ],
      "text/plain": [
       "                       1    2    3    4    5    6    7    8    9   10  ...   \\\n",
       "dt                                                                     ...    \n",
       "2016-01-01 00:00:00  0.0  0.0  0.0  0.0  0.0  0.0  0.0  0.0  0.0  0.0  ...    \n",
       "2016-01-01 01:00:00  0.0  0.0  0.0  0.0  0.0  0.0  0.0  0.0  0.0  0.0  ...    \n",
       "2016-01-01 02:00:00  0.0  0.0  0.0  0.0  0.0  0.0  0.0  0.0  0.0  0.0  ...    \n",
       "2016-01-01 03:00:00  0.0  0.0  0.0  0.0  0.0  0.0  0.0  0.0  0.0  0.0  ...    \n",
       "2016-01-01 04:00:00  0.0  0.0  0.0  0.0  0.0  0.0  0.0  0.0  0.0  0.0  ...    \n",
       "\n",
       "                     2491  2492  2493  2494  2495  2496  2497  2498  2499  \\\n",
       "dt                                                                          \n",
       "2016-01-01 00:00:00   0.0   0.0   0.0   0.0   0.0   0.0   0.0   0.0   0.0   \n",
       "2016-01-01 01:00:00   0.0   0.0   0.0   0.0   0.0   0.0   0.0   0.0   0.0   \n",
       "2016-01-01 02:00:00   0.0   0.0   0.0   0.0   0.0   0.0   0.0   0.0   0.0   \n",
       "2016-01-01 03:00:00   0.0   0.0   0.0   0.0   0.0   0.0   0.0   0.0   0.0   \n",
       "2016-01-01 04:00:00   0.0   0.0   0.0   0.0   0.0   0.0   0.0   0.0   0.0   \n",
       "\n",
       "                     2500  \n",
       "dt                         \n",
       "2016-01-01 00:00:00   0.0  \n",
       "2016-01-01 01:00:00   0.0  \n",
       "2016-01-01 02:00:00   0.0  \n",
       "2016-01-01 03:00:00   0.0  \n",
       "2016-01-01 04:00:00   0.0  \n",
       "\n",
       "[5 rows x 2500 columns]"
      ]
     },
     "execution_count": 2,
     "metadata": {},
     "output_type": "execute_result"
    }
   ],
   "source": [
    "all_data = pd.read_csv('arg_data.csv', sep = ';')\n",
    "all_data.set_index('dt', inplace=True)\n",
    "all_data.index = pd.to_datetime(all_data.index)\n",
    "all_data.head()"
   ]
  },
  {
   "cell_type": "markdown",
   "metadata": {},
   "source": [
    "**Подготовка исходных данных**"
   ]
  },
  {
   "cell_type": "markdown",
   "metadata": {},
   "source": [
    " Отбор интенсивных регионов на майском наборе данных"
   ]
  },
  {
   "cell_type": "code",
   "execution_count": 3,
   "metadata": {},
   "outputs": [
    {
     "data": {
      "text/plain": [
       "102"
      ]
     },
     "execution_count": 3,
     "metadata": {},
     "output_type": "execute_result"
    }
   ],
   "source": [
    "data_may = all_data.loc['2016-05-01 00:00:00':'2016-05-31 23:00:00', :]\n",
    "(data_may.mean()>5).sum()"
   ]
  },
  {
   "cell_type": "markdown",
   "metadata": {},
   "source": [
    "Отфильтруем общий датасет"
   ]
  },
  {
   "cell_type": "code",
   "execution_count": null,
   "metadata": {},
   "outputs": [],
   "source": [
    "intresting_columns = data_may.loc[:, data_may.mean()>5].columns\n",
    "week5_data = all_data.loc[:, all_data.columns.str.contains('|'.join(intresting_columns))]\n",
    "week5_data.head(2)"
   ]
  },
  {
   "cell_type": "code",
   "execution_count": 7,
   "metadata": {},
   "outputs": [
    {
     "data": {
      "text/html": [
       "<div>\n",
       "<style scoped>\n",
       "    .dataframe tbody tr th:only-of-type {\n",
       "        vertical-align: middle;\n",
       "    }\n",
       "\n",
       "    .dataframe tbody tr th {\n",
       "        vertical-align: top;\n",
       "    }\n",
       "\n",
       "    .dataframe thead th {\n",
       "        text-align: right;\n",
       "    }\n",
       "</style>\n",
       "<table border=\"1\" class=\"dataframe\">\n",
       "  <thead>\n",
       "    <tr style=\"text-align: right;\">\n",
       "      <th></th>\n",
       "      <th>1075</th>\n",
       "      <th>1076</th>\n",
       "      <th>1077</th>\n",
       "      <th>1125</th>\n",
       "      <th>1126</th>\n",
       "      <th>1127</th>\n",
       "      <th>1128</th>\n",
       "      <th>1129</th>\n",
       "      <th>1130</th>\n",
       "      <th>1131</th>\n",
       "      <th>...</th>\n",
       "      <th>1630</th>\n",
       "      <th>1684</th>\n",
       "      <th>1733</th>\n",
       "      <th>1734</th>\n",
       "      <th>1783</th>\n",
       "      <th>2068</th>\n",
       "      <th>2069</th>\n",
       "      <th>2118</th>\n",
       "      <th>2119</th>\n",
       "      <th>2168</th>\n",
       "    </tr>\n",
       "    <tr>\n",
       "      <th>dt</th>\n",
       "      <th></th>\n",
       "      <th></th>\n",
       "      <th></th>\n",
       "      <th></th>\n",
       "      <th></th>\n",
       "      <th></th>\n",
       "      <th></th>\n",
       "      <th></th>\n",
       "      <th></th>\n",
       "      <th></th>\n",
       "      <th></th>\n",
       "      <th></th>\n",
       "      <th></th>\n",
       "      <th></th>\n",
       "      <th></th>\n",
       "      <th></th>\n",
       "      <th></th>\n",
       "      <th></th>\n",
       "      <th></th>\n",
       "      <th></th>\n",
       "      <th></th>\n",
       "    </tr>\n",
       "  </thead>\n",
       "  <tbody>\n",
       "    <tr>\n",
       "      <th>2016-01-01 00:00:00</th>\n",
       "      <td>80.0</td>\n",
       "      <td>144.0</td>\n",
       "      <td>50.0</td>\n",
       "      <td>77.0</td>\n",
       "      <td>319.0</td>\n",
       "      <td>402.0</td>\n",
       "      <td>531.0</td>\n",
       "      <td>617.0</td>\n",
       "      <td>846.0</td>\n",
       "      <td>267.0</td>\n",
       "      <td>...</td>\n",
       "      <td>12.0</td>\n",
       "      <td>0.0</td>\n",
       "      <td>2.0</td>\n",
       "      <td>44.0</td>\n",
       "      <td>5.0</td>\n",
       "      <td>41.0</td>\n",
       "      <td>4.0</td>\n",
       "      <td>70.0</td>\n",
       "      <td>7.0</td>\n",
       "      <td>66.0</td>\n",
       "    </tr>\n",
       "    <tr>\n",
       "      <th>2016-01-01 01:00:00</th>\n",
       "      <td>91.0</td>\n",
       "      <td>211.0</td>\n",
       "      <td>49.0</td>\n",
       "      <td>134.0</td>\n",
       "      <td>404.0</td>\n",
       "      <td>420.0</td>\n",
       "      <td>370.0</td>\n",
       "      <td>453.0</td>\n",
       "      <td>594.0</td>\n",
       "      <td>224.0</td>\n",
       "      <td>...</td>\n",
       "      <td>29.0</td>\n",
       "      <td>0.0</td>\n",
       "      <td>5.0</td>\n",
       "      <td>2.0</td>\n",
       "      <td>2.0</td>\n",
       "      <td>4.0</td>\n",
       "      <td>0.0</td>\n",
       "      <td>47.0</td>\n",
       "      <td>1.0</td>\n",
       "      <td>29.0</td>\n",
       "    </tr>\n",
       "    <tr>\n",
       "      <th>2016-01-01 02:00:00</th>\n",
       "      <td>90.0</td>\n",
       "      <td>146.0</td>\n",
       "      <td>23.0</td>\n",
       "      <td>110.0</td>\n",
       "      <td>393.0</td>\n",
       "      <td>425.0</td>\n",
       "      <td>313.0</td>\n",
       "      <td>366.0</td>\n",
       "      <td>377.0</td>\n",
       "      <td>138.0</td>\n",
       "      <td>...</td>\n",
       "      <td>47.0</td>\n",
       "      <td>0.0</td>\n",
       "      <td>3.0</td>\n",
       "      <td>0.0</td>\n",
       "      <td>4.0</td>\n",
       "      <td>0.0</td>\n",
       "      <td>0.0</td>\n",
       "      <td>69.0</td>\n",
       "      <td>1.0</td>\n",
       "      <td>14.0</td>\n",
       "    </tr>\n",
       "    <tr>\n",
       "      <th>2016-01-01 03:00:00</th>\n",
       "      <td>32.0</td>\n",
       "      <td>87.0</td>\n",
       "      <td>16.0</td>\n",
       "      <td>62.0</td>\n",
       "      <td>252.0</td>\n",
       "      <td>399.0</td>\n",
       "      <td>324.0</td>\n",
       "      <td>309.0</td>\n",
       "      <td>327.0</td>\n",
       "      <td>166.0</td>\n",
       "      <td>...</td>\n",
       "      <td>46.0</td>\n",
       "      <td>0.0</td>\n",
       "      <td>2.0</td>\n",
       "      <td>4.0</td>\n",
       "      <td>5.0</td>\n",
       "      <td>1.0</td>\n",
       "      <td>0.0</td>\n",
       "      <td>21.0</td>\n",
       "      <td>0.0</td>\n",
       "      <td>9.0</td>\n",
       "    </tr>\n",
       "    <tr>\n",
       "      <th>2016-01-01 04:00:00</th>\n",
       "      <td>24.0</td>\n",
       "      <td>43.0</td>\n",
       "      <td>10.0</td>\n",
       "      <td>53.0</td>\n",
       "      <td>145.0</td>\n",
       "      <td>254.0</td>\n",
       "      <td>264.0</td>\n",
       "      <td>333.0</td>\n",
       "      <td>318.0</td>\n",
       "      <td>145.0</td>\n",
       "      <td>...</td>\n",
       "      <td>43.0</td>\n",
       "      <td>0.0</td>\n",
       "      <td>0.0</td>\n",
       "      <td>1.0</td>\n",
       "      <td>1.0</td>\n",
       "      <td>0.0</td>\n",
       "      <td>0.0</td>\n",
       "      <td>26.0</td>\n",
       "      <td>1.0</td>\n",
       "      <td>6.0</td>\n",
       "    </tr>\n",
       "  </tbody>\n",
       "</table>\n",
       "<p>5 rows × 102 columns</p>\n",
       "</div>"
      ],
      "text/plain": [
       "                     1075   1076  1077   1125   1126   1127   1128   1129  \\\n",
       "dt                                                                          \n",
       "2016-01-01 00:00:00  80.0  144.0  50.0   77.0  319.0  402.0  531.0  617.0   \n",
       "2016-01-01 01:00:00  91.0  211.0  49.0  134.0  404.0  420.0  370.0  453.0   \n",
       "2016-01-01 02:00:00  90.0  146.0  23.0  110.0  393.0  425.0  313.0  366.0   \n",
       "2016-01-01 03:00:00  32.0   87.0  16.0   62.0  252.0  399.0  324.0  309.0   \n",
       "2016-01-01 04:00:00  24.0   43.0  10.0   53.0  145.0  254.0  264.0  333.0   \n",
       "\n",
       "                      1130   1131  ...   1630  1684  1733  1734  1783  2068  \\\n",
       "dt                                 ...                                        \n",
       "2016-01-01 00:00:00  846.0  267.0  ...   12.0   0.0   2.0  44.0   5.0  41.0   \n",
       "2016-01-01 01:00:00  594.0  224.0  ...   29.0   0.0   5.0   2.0   2.0   4.0   \n",
       "2016-01-01 02:00:00  377.0  138.0  ...   47.0   0.0   3.0   0.0   4.0   0.0   \n",
       "2016-01-01 03:00:00  327.0  166.0  ...   46.0   0.0   2.0   4.0   5.0   1.0   \n",
       "2016-01-01 04:00:00  318.0  145.0  ...   43.0   0.0   0.0   1.0   1.0   0.0   \n",
       "\n",
       "                     2069  2118  2119  2168  \n",
       "dt                                           \n",
       "2016-01-01 00:00:00   4.0  70.0   7.0  66.0  \n",
       "2016-01-01 01:00:00   0.0  47.0   1.0  29.0  \n",
       "2016-01-01 02:00:00   0.0  69.0   1.0  14.0  \n",
       "2016-01-01 03:00:00   0.0  21.0   0.0   9.0  \n",
       "2016-01-01 04:00:00   0.0  26.0   1.0   6.0  \n",
       "\n",
       "[5 rows x 102 columns]"
      ]
     },
     "execution_count": 7,
     "metadata": {},
     "output_type": "execute_result"
    }
   ],
   "source": [
    "week5_data.head()"
   ]
  },
  {
   "cell_type": "markdown",
   "metadata": {},
   "source": [
    "**Генерируем общие признаки**"
   ]
  },
  {
   "cell_type": "code",
   "execution_count": 8,
   "metadata": {},
   "outputs": [],
   "source": [
    "data = week5_data.copy()"
   ]
  },
  {
   "cell_type": "code",
   "execution_count": 9,
   "metadata": {},
   "outputs": [],
   "source": [
    "data['year'] = data.index.year\n",
    "data['month'] = data.index.month\n",
    "data['day'] = data.index.day\n",
    "data['day of week'] = data.index.dayofweek\n",
    "data['hour'] = data.index.hour"
   ]
  },
  {
   "cell_type": "markdown",
   "metadata": {},
   "source": [
    "##### Зададим регрессионную модель,учитывающую дневную, недельную и годовую сезонность"
   ]
  },
  {
   "cell_type": "code",
   "execution_count": null,
   "metadata": {},
   "outputs": [],
   "source": [
    "KG = 1\n",
    "KW = 7\n",
    "KD = 40\n",
    "year_period = 8766 #365.2424*24 - средняя продолжительность года в часах\n",
    "week_period = 168\n",
    "day_period = 24"
   ]
  },
  {
   "cell_type": "markdown",
   "metadata": {},
   "source": [
    "##### Ввод коэффициентов 1.0/1.4142135623730951==1/sqrt(2) Это попытка сделать ряды не совпадающими из-за кратности рпериодов.\n",
    "Поэтому внесли смещение по фазе (на Pi/4)"
   ]
  },
  {
   "cell_type": "code",
   "execution_count": 11,
   "metadata": {},
   "outputs": [
    {
     "name": "stderr",
     "output_type": "stream",
     "text": [
      "C:\\ProgramData\\Anaconda2\\lib\\site-packages\\dateutil\\parser\\_parser.py:113: UnicodeWarning: Unicode equal comparison failed to convert both arguments to Unicode - interpreting them as being unequal\n",
      "  while nextchar == '\\x00':\n"
     ]
    }
   ],
   "source": [
    "for i in range(1, KG+1):\n",
    "    data['y_с_' + str(i)] = np.cos(np.arange(1, data.shape[0]+1)*2*np.pi*i/year_period)\n",
    "    data['y_s_' + str(i)] = np.sin(np.arange(1, data.shape[0]+1)*2*np.pi*i/year_period)\n",
    "for i in range(1, KW+1):    \n",
    "    data['w_с_' + str(i)] = 1.0/1.4142135623730951*np.cos(np.arange(1, data.shape[0]+1)*2*np.pi*i/week_period)\n",
    "    data['w_s_' + str(i)] = 1.0/1.4142135623730951*np.sin(np.arange(1, data.shape[0]+1)*2*np.pi*i/week_period)\n",
    "for i in range(1, KD+1):    \n",
    "    data['d_с_' + str(i)] = 1.0/1.4142135623730951*np.cos(np.arange(1, data.shape[0]+1)*2*np.pi*i/day_period)\n",
    "    data['d_s_' + str(i)] = -1.0/1.4142135623730951*np.sin(np.arange(1, data.shape[0]+1)*2*np.pi*i/day_period)   "
   ]
  },
  {
   "cell_type": "markdown",
   "metadata": {},
   "source": [
    "**Создание регрессионных моделей для каждого региона**"
   ]
  },
  {
   "cell_type": "code",
   "execution_count": 12,
   "metadata": {},
   "outputs": [
    {
     "name": "stdout",
     "output_type": "stream",
     "text": [
      "1075 1076 1077 1125 1126 1127 1128 1129 1130 1131 1132 1172 1173 1174 1175 1176 1177 1178 1179 1180 1181 1182 1183 1184 1221 1222 1223 1224 1225 1227 1228 1229 1230 1231 1232 1233 1234 1235 1272 1273 1274 1278 1279 1280 1281 1282 1283 1284 1285 1286 1287 1326 1327 1331 1332 1333 1334 1335 1336 1337 1338 1339 1376 1377 1378 1380 1382 1383 1384 1385 1386 1387 1388 1389 1390 1426 1431 1434 1435 1436 1437 1438 1439 1441 1442 1480 1482 1483 1530 1532 1533 1580 1630 1684 1733 1734 1783 2068 2069 2118 2119 2168Wall time: 5min 15s\n",
      "\n"
     ]
    }
   ],
   "source": [
    "%%time\n",
    "\n",
    "import warnings\n",
    "warnings.filterwarnings('ignore')\n",
    "\n",
    "linear_models_dict = {}\n",
    "\n",
    "X_val_dict = {}\n",
    "y_val_dict = {}\n",
    "y_val_pred_dict = {}\n",
    "\n",
    "X_test_dict = {}\n",
    "y_test_dict = {}\n",
    "y_test_pred_dict = {}\n",
    "\n",
    "for id_name in week5_data.columns:\n",
    "    print id_name,\n",
    "    drop_list = list(week5_data.columns)\n",
    "    drop_list.remove(str(id_name))\n",
    "    add_data = data.copy().drop(drop_list, axis = 1) \n",
    "    \n",
    "    \n",
    "    add_data['shift_1'] = add_data[str(id_name)].shift(1)\n",
    "    add_data['shift_2'] = add_data[str(id_name)].shift(2)\n",
    "    add_data['shift_3'] = add_data[str(id_name)].shift(3)\n",
    "    add_data['shift_4'] = add_data[str(id_name)].shift(4)\n",
    "    add_data['shift_5'] = add_data[str(id_name)].shift(5)\n",
    "    add_data['shift_6'] = add_data[str(id_name)].shift(6)\n",
    "    add_data['shift_24'] = add_data[str(id_name)].shift(24)\n",
    "    add_data['shift_48'] = add_data[str(id_name)].shift(48)\n",
    "    \n",
    "    add_data = add_data.iloc[48:]\n",
    "    \n",
    "    \n",
    "    predict_may_start = '2016-04-30 23:00'\n",
    "    predict_may_stop = '2016-05-31 23:00'\n",
    "    precit_june_stop = '2016-06-30 23:00' \n",
    "    \n",
    "    X_train = add_data.loc[:predict_may_start].drop(str(id_name), axis = 1)\n",
    "    y_train = add_data.loc[:predict_may_start][str(id_name)]\n",
    "    \n",
    "    X_val = add_data.loc[predict_may_start:predict_may_stop].drop(str(id_name), axis = 1)\n",
    "    y_val = add_data.loc[predict_may_start:predict_may_stop][str(id_name)]\n",
    "    \n",
    "    X_test = add_data.loc[predict_may_stop:].drop(str(id_name), axis = 1)\n",
    "    y_test = add_data.loc[predict_may_stop:][str(id_name)]\n",
    "    \n",
    "    #Строим Ridge модель с подбором гиперпараметра\n",
    "    model = linear_model.Ridge()\n",
    "    param_grid = [{'alpha' : np.logspace(2, 3, 50)}]\n",
    "    clf = GridSearchCV(model, param_grid, cv = 5)\n",
    "    best_model = clf.fit(X_train, y_train)\n",
    "    \n",
    "    # Сохраним результаты разбиения данных, моделей и их прогнозы по словарям. Ключлм будет являться id региона\n",
    "    linear_models_dict[id_name] = best_model\n",
    "    X_val_dict[id_name] = X_val\n",
    "    y_val_dict[id_name] = y_val\n",
    "    y_val_pred_dict[id_name] = best_model.predict(X_val)\n",
    "    X_test_dict[id_name] = X_test\n",
    "    y_test_dict[id_name] = y_test\n",
    "    y_test_pred_dict[id_name] = best_model.predict(X_test)\n",
    "       \n"
   ]
  },
  {
   "cell_type": "markdown",
   "metadata": {},
   "source": [
    "**Предсказания на май**"
   ]
  },
  {
   "cell_type": "markdown",
   "metadata": {},
   "source": [
    "Расчитаем Q_may"
   ]
  },
  {
   "cell_type": "markdown",
   "metadata": {},
   "source": [
    "Ключи словарей:"
   ]
  },
  {
   "cell_type": "code",
   "execution_count": 13,
   "metadata": {},
   "outputs": [
    {
     "data": {
      "text/plain": [
       "Index([u'1075', u'1076', u'1077', u'1125', u'1126', u'1127', u'1128', u'1129',\n",
       "       u'1130', u'1131',\n",
       "       ...\n",
       "       u'1630', u'1684', u'1733', u'1734', u'1783', u'2068', u'2069', u'2118',\n",
       "       u'2119', u'2168'],\n",
       "      dtype='object', length=102)"
      ]
     },
     "execution_count": 13,
     "metadata": {},
     "output_type": "execute_result"
    }
   ],
   "source": [
    "week5_data.columns"
   ]
  },
  {
   "cell_type": "markdown",
   "metadata": {},
   "source": [
    "Временной диапазон:"
   ]
  },
  {
   "cell_type": "code",
   "execution_count": 14,
   "metadata": {},
   "outputs": [],
   "source": [
    "may_time_range = pd.date_range('2016-04-30 23:00', '2016-05-31 17:00', freq = 'H')"
   ]
  },
  {
   "cell_type": "code",
   "execution_count": 15,
   "metadata": {},
   "outputs": [
    {
     "name": "stdout",
     "output_type": "stream",
     "text": [
      "1075 1076 1077 1125 1126 1127 1128 1129 1130 1131 1132 1172 1173 1174 1175 1176 1177 1178 1179 1180 1181 1182 1183 1184 1221 1222 1223 1224 1225 1227 1228 1229 1230 1231 1232 1233 1234 1235 1272 1273 1274 1278 1279 1280 1281 1282 1283 1284 1285 1286 1287 1326 1327 1331 1332 1333 1334 1335 1336 1337 1338 1339 1376 1377 1378 1380 1382 1383 1384 1385 1386 1387 1388 1389 1390 1426 1431 1434 1435 1436 1437 1438 1439 1441 1442 1480 1482 1483 1530 1532 1533 1580 1630 1684 1733 1734 1783 2068 2069 2118 2119 2168\n",
      "Q_may:  18.4832442405\n",
      "Wall time: 6min 32s\n"
     ]
    }
   ],
   "source": [
    "%%time\n",
    "Q_may_f = 0\n",
    "for key in week5_data.columns:\n",
    "    print key,\n",
    "    for date in may_time_range:\n",
    "        for step in range(1, 7):\n",
    "            # создадим вспомогательный df для прогноза, чтобы использовать индексы от оригинального df\n",
    "            forecast = pd.DataFrame(y_val_pred_dict.get(str(key)), index = y_val_dict.get(str(key)).index, columns = ['val'])\n",
    "            real_values = y_val_dict.get(str(key))\n",
    "            Q_may_f+= np.abs(forecast.loc[date + timedelta(hours = step)] - real_values.loc[date + timedelta(hours = step)])\n",
    "Q_may = float(Q_may_f/(102*739*6))\n",
    "print \n",
    "print 'Q_may: ', Q_may"
   ]
  },
  {
   "cell_type": "markdown",
   "metadata": {},
   "source": [
    "Ошибка уменьшилась  в 2 раза по сравнению с прошлой неделей."
   ]
  },
  {
   "cell_type": "markdown",
   "metadata": {},
   "source": [
    "**Предсказания за июнь**"
   ]
  },
  {
   "cell_type": "code",
   "execution_count": 16,
   "metadata": {},
   "outputs": [],
   "source": [
    "june_time_range = pd.date_range('2016-05-31 23:00', '2016-06-30 17:00', freq = 'H')"
   ]
  },
  {
   "cell_type": "code",
   "execution_count": 17,
   "metadata": {},
   "outputs": [
    {
     "name": "stdout",
     "output_type": "stream",
     "text": [
      "1075 1076 1077 1125 1126 1127 1128 1129 1130 1131 1132 1172 1173 1174 1175 1176 1177 1178 1179 1180 1181 1182 1183 1184 1221 1222 1223 1224 1225 1227 1228 1229 1230 1231 1232 1233 1234 1235 1272 1273 1274 1278 1279 1280 1281 1282 1283 1284 1285 1286 1287 1326 1327 1331 1332 1333 1334 1335 1336 1337 1338 1339 1376 1377 1378 1380 1382 1383 1384 1385 1386 1387 1388 1389 1390 1426 1431 1434 1435 1436 1437 1438 1439 1441 1442 1480 1482 1483 1530 1532 1533 1580 1630 1684 1733 1734 1783 2068 2069 2118 2119 2168\n",
      "Q_june:  17.7060005026\n",
      "Wall time: 6min 14s\n"
     ]
    }
   ],
   "source": [
    "%%time\n",
    "Q_june_f = 0\n",
    "for key in week5_data.columns:\n",
    "    print key,\n",
    "    for date in june_time_range:\n",
    "        for step in range(1, 7):\n",
    "            # создадим вспомогательный df для прогноза, чтобы использовать индексы от оригинального df\n",
    "            forecast = pd.DataFrame(y_test_pred_dict.get(str(key)), index = y_test_dict.get(str(key)).index, columns = ['val'])\n",
    "            real_values = y_test_dict.get(str(key))\n",
    "            Q_june_f+= np.abs(forecast.loc[date + timedelta(hours = step)] - real_values.loc[date + timedelta(hours = step)])\n",
    "Q_june = float(Q_june_f/(102*739*6))\n",
    "print \n",
    "print 'Q_june: ', Q_june"
   ]
  },
  {
   "cell_type": "code",
   "execution_count": 18,
   "metadata": {},
   "outputs": [
    {
     "name": "stdout",
     "output_type": "stream",
     "text": [
      "1075 1076 1077 1125 1126 1127 1128 1129 1130 1131 1132 1172 1173 1174 1175 1176 1177 1178 1179 1180 1181 1182 1183 1184 1221 1222 1223 1224 1225 1227 1228 1229 1230 1231 1232 1233 1234 1235 1272 1273 1274 1278 1279 1280 1281 1282 1283 1284 1285 1286 1287 1326 1327 1331 1332 1333 1334 1335 1336 1337 1338 1339 1376 1377 1378 1380 1382 1383 1384 1385 1386 1387 1388 1389 1390 1426 1431 1434 1435 1436 1437 1438 1439 1441 1442 1480 1482 1483 1530 1532 1533 1580 1630 1684 1733 1734 1783 2068 2069 2118 2119 2168\n",
      "Q_june:  17.7060005026\n",
      "Wall time: 7min 53s\n"
     ]
    }
   ],
   "source": [
    "%%time\n",
    "Q_june_f = 0\n",
    "title_list = []\n",
    "prediction_list = []\n",
    "for key in week5_data.columns:\n",
    "    print key,\n",
    "    for date in june_time_range:\n",
    "        for step in range(1, 7):\n",
    "            # создадим вспомогательный df для прогноза, чтобы использовать индексы от оригинального df\n",
    "            forecast = pd.DataFrame(y_test_pred_dict.get(str(key)), index = y_test_dict.get(str(key)).index, columns = ['val'])\n",
    "            real_values = y_test_dict.get(str(key))\n",
    "#             print forecast\n",
    "#             print float(forecast.loc[date + timedelta(hours = step)])            \n",
    "                \n",
    "            prediction_list.append(float(forecast.loc[date + timedelta(hours = step)]))\n",
    "            title_list.append(str(key) + '_' + str(date)[:10]+ '_' + str(date.hour) + '_' + str(step))  \n",
    "            \n",
    "            Q_june_f+= np.abs(forecast.loc[date + timedelta(hours = step)] - real_values.loc[date + timedelta(hours = step)])\n",
    "Q_june = float(Q_june_f/(102*739*6))\n",
    "print \n",
    "print 'Q_june: ', Q_june"
   ]
  },
  {
   "cell_type": "code",
   "execution_count": 19,
   "metadata": {},
   "outputs": [
    {
     "name": "stdout",
     "output_type": "stream",
     "text": [
      "(437580, 1)\n"
     ]
    },
    {
     "data": {
      "text/html": [
       "<div>\n",
       "<style scoped>\n",
       "    .dataframe tbody tr th:only-of-type {\n",
       "        vertical-align: middle;\n",
       "    }\n",
       "\n",
       "    .dataframe tbody tr th {\n",
       "        vertical-align: top;\n",
       "    }\n",
       "\n",
       "    .dataframe thead th {\n",
       "        text-align: right;\n",
       "    }\n",
       "</style>\n",
       "<table border=\"1\" class=\"dataframe\">\n",
       "  <thead>\n",
       "    <tr style=\"text-align: right;\">\n",
       "      <th></th>\n",
       "      <th>y</th>\n",
       "    </tr>\n",
       "    <tr>\n",
       "      <th>id</th>\n",
       "      <th></th>\n",
       "    </tr>\n",
       "  </thead>\n",
       "  <tbody>\n",
       "    <tr>\n",
       "      <th>1075_2016-05-31_23_1</th>\n",
       "      <td>22.140314</td>\n",
       "    </tr>\n",
       "    <tr>\n",
       "      <th>1075_2016-05-31_23_2</th>\n",
       "      <td>17.320855</td>\n",
       "    </tr>\n",
       "    <tr>\n",
       "      <th>1075_2016-05-31_23_3</th>\n",
       "      <td>9.591114</td>\n",
       "    </tr>\n",
       "    <tr>\n",
       "      <th>1075_2016-05-31_23_4</th>\n",
       "      <td>7.688251</td>\n",
       "    </tr>\n",
       "    <tr>\n",
       "      <th>1075_2016-05-31_23_5</th>\n",
       "      <td>8.345311</td>\n",
       "    </tr>\n",
       "  </tbody>\n",
       "</table>\n",
       "</div>"
      ],
      "text/plain": [
       "                              y\n",
       "id                             \n",
       "1075_2016-05-31_23_1  22.140314\n",
       "1075_2016-05-31_23_2  17.320855\n",
       "1075_2016-05-31_23_3   9.591114\n",
       "1075_2016-05-31_23_4   7.688251\n",
       "1075_2016-05-31_23_5   8.345311"
      ]
     },
     "execution_count": 19,
     "metadata": {},
     "output_type": "execute_result"
    }
   ],
   "source": [
    "kaggle_week5_df = pd.DataFrame(prediction_list, index = title_list, columns = ['y'])\n",
    "kaggle_week5_df.index.name = 'id'\n",
    "print kaggle_week5_df.shape\n",
    "kaggle_week5_df.head()"
   ]
  },
  {
   "cell_type": "code",
   "execution_count": 20,
   "metadata": {},
   "outputs": [],
   "source": [
    "kaggle_week5_df.to_csv('kaggle_df_week5.csv')"
   ]
  },
  {
   "cell_type": "code",
   "execution_count": null,
   "metadata": {},
   "outputs": [],
   "source": [
    "18.30032 -  это 63 результат на kaggle 09.06.2019 (9:00 Московского времени):"
   ]
  },
  {
   "cell_type": "markdown",
   "metadata": {},
   "source": [
    "https://inclass.kaggle.com/c/yellowtaxi/submissions?sortBy=date&group=selected&page=1&pageSize=20"
   ]
  }
 ],
 "metadata": {
  "kernelspec": {
   "display_name": "Python 2",
   "language": "python",
   "name": "python2"
  },
  "language_info": {
   "codemirror_mode": {
    "name": "ipython",
    "version": 2
   },
   "file_extension": ".py",
   "mimetype": "text/x-python",
   "name": "python",
   "nbconvert_exporter": "python",
   "pygments_lexer": "ipython2",
   "version": "2.7.16"
  }
 },
 "nbformat": 4,
 "nbformat_minor": 2
}

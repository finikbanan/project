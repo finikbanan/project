{
 "cells": [
  {
   "cell_type": "markdown",
   "metadata": {},
   "source": [
    "# Работа с геоданными"
   ]
  },
  {
   "cell_type": "code",
   "execution_count": 2,
   "metadata": {},
   "outputs": [
    {
     "name": "stdout",
     "output_type": "stream",
     "text": [
      "Collecting folium\n",
      "  Downloading https://files.pythonhosted.org/packages/43/77/0287320dc4fd86ae8847bab6c34b5ec370e836a79c7b0c16680a3d9fd770/folium-0.8.3-py2.py3-none-any.whl (87kB)\n",
      "Requirement already satisfied: jinja2 in c:\\users\\hp\\anaconda2\\lib\\site-packages (from folium) (2.10)\n",
      "Requirement already satisfied: numpy in c:\\users\\hp\\anaconda2\\lib\\site-packages (from folium) (1.16.2)\n",
      "Requirement already satisfied: requests in c:\\users\\hp\\anaconda2\\lib\\site-packages (from folium) (2.21.0)\n",
      "Collecting branca>=0.3.0 (from folium)\n",
      "  Downloading https://files.pythonhosted.org/packages/a1/37/675c85871b923bb35ea9a5b516a1841428bd753d7f885d5921060dfd3c41/branca-0.3.1-py2-none-any.whl\n",
      "Requirement already satisfied: six in c:\\users\\hp\\anaconda2\\lib\\site-packages (from folium) (1.12.0)\n",
      "Requirement already satisfied: MarkupSafe>=0.23 in c:\\users\\hp\\anaconda2\\lib\\site-packages (from jinja2->folium) (1.1.1)\n",
      "Requirement already satisfied: urllib3<1.25,>=1.21.1 in c:\\users\\hp\\anaconda2\\lib\\site-packages (from requests->folium) (1.24.1)\n",
      "Requirement already satisfied: certifi>=2017.4.17 in c:\\users\\hp\\anaconda2\\lib\\site-packages (from requests->folium) (2019.3.9)\n",
      "Requirement already satisfied: idna<2.9,>=2.5 in c:\\users\\hp\\anaconda2\\lib\\site-packages (from requests->folium) (2.8)\n",
      "Requirement already satisfied: chardet<3.1.0,>=3.0.2 in c:\\users\\hp\\anaconda2\\lib\\site-packages (from requests->folium) (3.0.4)\n",
      "Installing collected packages: branca, folium\n",
      "Successfully installed branca-0.3.1 folium-0.8.3\n"
     ]
    },
    {
     "name": "stderr",
     "output_type": "stream",
     "text": [
      "DEPRECATION: Python 2.7 will reach the end of its life on January 1st, 2020. Please upgrade your Python as Python 2.7 won't be maintained after that date. A future version of pip will drop support for Python 2.7.\n"
     ]
    }
   ],
   "source": [
    "!pip install folium"
   ]
  },
  {
   "cell_type": "code",
   "execution_count": 3,
   "metadata": {},
   "outputs": [
    {
     "name": "stderr",
     "output_type": "stream",
     "text": [
      "C:\\Users\\hp\\Anaconda2\\lib\\site-packages\\folium\\__init__.py:59: UserWarning: This version of folium is the last to support Python 2. Transition to Python 3 to be able to receive updates and fixes. Check out https://python3statement.org/ for more info.\n",
      "  UserWarning\n"
     ]
    }
   ],
   "source": [
    "import folium\n",
    "import pandas as pd\n",
    "import branca.colormap as cm\n",
    "import json"
   ]
  },
  {
   "cell_type": "markdown",
   "metadata": {},
   "source": [
    "## Реализация вспомогательных методов"
   ]
  },
  {
   "cell_type": "markdown",
   "metadata": {},
   "source": [
    "Для отрисовки сетки на карте потребуется описание сетки в формате json "
   ]
  },
  {
   "cell_type": "code",
   "execution_count": 4,
   "metadata": {},
   "outputs": [],
   "source": [
    "# Загрузка данных по регионам\n",
    "region=pd.read_csv('regions.csv',sep=';')\n",
    "\n",
    "# Фуникция возвращает форматированную пару координат:\n",
    "# [40.748817, -73.985428]\n",
    "def coord_to_str(longitude,latitude):\n",
    "    return '['+str(longitude)+\",\"+str(latitude)+']'\n",
    "\n",
    "# Функция принимает ячейку region и возвращает 4 пары координат ячейки\n",
    "def region_to_str(region):\n",
    "    res=''\n",
    "    delim=''\n",
    "    for longitude,latitude in zip ([region.west,region.west,region.east,region.east],[region.south,region.north,region.north,region.south]):\n",
    "        if len(res)>0: delim=','\n",
    "        res=res+delim+coord_to_str(longitude,latitude)\n",
    "    return res\n",
    "\n",
    "# Функция возвращает описание ячейки в формате json \n",
    "def region_to_json(region,delim):\n",
    "    id_=str(int(region.region))\n",
    "    res=delim+'{\\\"type\\\":\\\"Feature\\\",\\\"id\\\":\\\"cell'+id_+'\\\",\\\"properties\\\":{\\\"name\\\":\\\"cell'+id_+'\\\"},\\\"geometry\\\":{\\\"type\\\":\\\"Polygon\\\",\\\"coordinates\\\":[['+region_to_str(region)+']]}}'\n",
    "    return res\n",
    "\n",
    "# Формируем json файл с описанием сетки\n",
    "def write_geo_json_data(filename,region):\n",
    "    f=open(filename,'w')\n",
    "    f.write('{\\\"type\\\":\\\"FeatureCollection\\\",\\\"features\\\":[')\n",
    "    delim=''\n",
    "    for r in region.iterrows():\n",
    "        f.write(region_to_json(r[1],delim))\n",
    "        delim=','\n",
    "    f.write(']}')\n",
    "    f.close()\n",
    "    return filename\n",
    "    \n",
    "geo_json_data_filename=write_geo_json_data('region.json',region)\n",
    "geo_json_data =json.load(open(geo_json_data_filename))"
   ]
  },
  {
   "cell_type": "markdown",
   "metadata": {},
   "source": [
    "Расскраска ячеек сетки на карте будет проводиться на основании значений некой статистики на ячейках сетки.\n",
    "\n",
    "Понадобится две статистики\n",
    "1. **Суммарное** количество поездок из ячейки\n",
    "2. **Среднее** количество поездок из ячейки"
   ]
  },
  {
   "cell_type": "code",
   "execution_count": null,
   "metadata": {},
   "outputs": [],
   "source": []
  },
  {
   "cell_type": "code",
   "execution_count": 5,
   "metadata": {},
   "outputs": [],
   "source": [
    "\n",
    "\n",
    "# Загружаем агрегированные данные за май\n",
    "arg_data=pd.read_csv('arg_data_may.csv',sep=';')\n",
    "#########arg_data.drop(labels='Unnamed: 0',axis=1,inplace=True)\n",
    "# Строим статистику по среднему количеству поездок\n",
    "mean_stat=arg_data.mean(axis=0)\n",
    "mean_stat.index='cell'+mean_stat.index\n",
    "# Строим статистику по сумме поездок\n",
    "sum_stat=arg_data.sum(axis=0)\n",
    "sum_stat.index='cell'+sum_stat.index"
   ]
  },
  {
   "cell_type": "code",
   "execution_count": 6,
   "metadata": {},
   "outputs": [
    {
     "data": {
      "text/plain": [
       "celldt    2016-05-01 00:00:002016-05-01 01:00:002016-05-...\n",
       "cell1                                                     0\n",
       "cell2                                                     0\n",
       "cell3                                                     0\n",
       "cell4                                                     0\n",
       "dtype: object"
      ]
     },
     "execution_count": 6,
     "metadata": {},
     "output_type": "execute_result"
    }
   ],
   "source": [
    "sum_stat.head()"
   ]
  },
  {
   "cell_type": "markdown",
   "metadata": {},
   "source": [
    "Реализуем функцию, которая  рисует карту города, накладывает на неё сетку и ставит метку.\n",
    "\n",
    "Сетка накладывается исходя из json координат разметки, которые мы сформировали выше. Цвет ячеек сетки зависит от значения статистики функции в ячейке"
   ]
  },
  {
   "cell_type": "code",
   "execution_count": 7,
   "metadata": {},
   "outputs": [],
   "source": [
    "# Функция возвращает постренную карту\n",
    "def get_map(geo_json_data,stats,marker):\n",
    "    # Функция строит карту цветов для отрисовки сетки поверх карты города\n",
    "    # учитываем, что есть нулевые ячейки - белые\n",
    "    # карта цветов 3х цветная - зеленый - мало поездок, оранжевый - средне, красный - много поездок\n",
    "    def get_colormap(data):\n",
    "        q_1=data[data>0].min()\n",
    "        q_33=data[data>0].quantile(q=0.33)\n",
    "        q_66=data[data>0].quantile(q=0.66)\n",
    "        q_100=data.max()\n",
    "        return cm.StepColormap(['white','green','orange','red'],index=[0,q_1*0.99,q_33,q_66,q_100],vmin=0,vmax=q_100)\n",
    "    colormap=get_colormap(stats)\n",
    "    # Рисуем карту города\n",
    "    map_ = folium.Map(location=[40.7127, -74.0059],tiles='openstreetmap',zoom_start=10) #tiles='cartodbpositron'tiles = \"CartoDB dark_matter\"\n",
    "    # Накладываем сетку\n",
    "    folium.GeoJson(\n",
    "        geo_json_data ,style_function=lambda feature: {\n",
    "            'fillColor': colormap(stats[feature['id']]),\n",
    "            'weight' : 0\n",
    "            }).add_to(map_)\n",
    "    # ставим метку\n",
    "    folium.Marker(marker[0], popup=marker[1]).add_to(map_)\n",
    "    return map_"
   ]
  },
  {
   "cell_type": "markdown",
   "metadata": {},
   "source": [
    "## Выполнение заданий"
   ]
  },
  {
   "cell_type": "markdown",
   "metadata": {},
   "source": [
    "### 1. Просуммируйте общее количество поездок такси из каждой географической зоны и посчитайте количество ячеек, из которых в мае не было совершено ни одной поездки"
   ]
  },
  {
   "cell_type": "code",
   "execution_count": 8,
   "metadata": {},
   "outputs": [
    {
     "data": {
      "text/plain": [
       "1283"
      ]
     },
     "execution_count": 8,
     "metadata": {},
     "output_type": "execute_result"
    }
   ],
   "source": [
    "(sum_stat==0).sum()"
   ]
  },
  {
   "cell_type": "markdown",
   "metadata": {},
   "source": [
    "### Карта с сеткой по СУММЕ поездок и меткой Эмпайр-Стейт-Билдинг\n",
    "$2.$ Нарисуйте статическую карту Нью-Йорка. Поставьте на карте точку там, где находится Эмпайр-Стейт-Билдинг.\n",
    "\n",
    "$3.$ Поверх статической карты Нью-Йорка визуализируйте данные о поездках из каждой ячейки так, чтобы цветовая шкала, в которую вы окрашиваете каждую ячейку, показывала суммарное количество поездок такси из неё."
   ]
  },
  {
   "cell_type": "code",
   "execution_count": 9,
   "metadata": {
    "scrolled": true
   },
   "outputs": [],
   "source": [
    "# Строим карту и накладываем сетку по сумме поездок\n",
    "marker_esb=[[40.748817, -73.985428],'Empire State Building']\n",
    "map1=get_map(geo_json_data,sum_stat,marker_esb)\n",
    "map1.save('map1.html')\n",
    "#map1"
   ]
  },
  {
   "cell_type": "code",
   "execution_count": 10,
   "metadata": {},
   "outputs": [
    {
     "data": {
      "text/html": [
       "\n",
       "        <iframe\n",
       "            width=\"700\"\n",
       "            height=\"600\"\n",
       "            src=\"./map1.html\"\n",
       "            frameborder=\"0\"\n",
       "            allowfullscreen\n",
       "        ></iframe>\n",
       "        "
      ],
      "text/plain": [
       "<IPython.lib.display.IFrame at 0xafd4a90>"
      ]
     },
     "execution_count": 10,
     "metadata": {},
     "output_type": "execute_result"
    }
   ],
   "source": [
    "from IPython.display import IFrame\n",
    "\n",
    "IFrame(src='./map1.html', width=700, height=600)"
   ]
  },
  {
   "cell_type": "markdown",
   "metadata": {},
   "source": [
    "### Карта с сеткой по СРЕДНЕМУ ЧИСЛУ поездок и меткой Статуя свободы\n",
    "$4.$ Вставьте интерактивную карту Нью-Йорка — такую, которую можно прокручивать и увеличивать. Поставьте метку там, где находится статуя свободы.\n",
    "\n",
    "$5.$ Нарисуйте на интерактивной карте Нью-Йорка ячейки так, чтобы их цвет показывал среднее за месяц количество поездок такси в час из этой зоны."
   ]
  },
  {
   "cell_type": "code",
   "execution_count": 11,
   "metadata": {},
   "outputs": [
    {
     "data": {
      "text/html": [
       "\n",
       "        <iframe\n",
       "            width=\"700\"\n",
       "            height=\"600\"\n",
       "            src=\"./map2.html\"\n",
       "            frameborder=\"0\"\n",
       "            allowfullscreen\n",
       "        ></iframe>\n",
       "        "
      ],
      "text/plain": [
       "<IPython.lib.display.IFrame at 0xb5fd208>"
      ]
     },
     "execution_count": 11,
     "metadata": {},
     "output_type": "execute_result"
    }
   ],
   "source": [
    "# Строим карту и накладываем сетку по сумме поездок\n",
    "marker_sl=[[40.6854, -74.0307],'Statue of Liberty']\n",
    "map2=get_map(geo_json_data,mean_stat,marker_sl)\n",
    "map2.save('map2.html')\n",
    "#map2\n",
    "IFrame(src='./map2.html', width=700, height=600)"
   ]
  },
  {
   "cell_type": "markdown",
   "metadata": {},
   "source": [
    "### 6. Чтобы не выбирать из всех 2500 ячеек вручную, отфильтруйте ячейки, из которых в мае совершается в среднем меньше 5 поездок в час. Посчитайте количество оставшихся. Проверьте на карте, что среди этих ячеек нет таких, из которых поездки на самом деле невозможны."
   ]
  },
  {
   "cell_type": "code",
   "execution_count": 12,
   "metadata": {},
   "outputs": [
    {
     "data": {
      "text/plain": [
       "folium.folium.Map"
      ]
     },
     "execution_count": 12,
     "metadata": {},
     "output_type": "execute_result"
    }
   ],
   "source": [
    "type(map2)"
   ]
  },
  {
   "cell_type": "code",
   "execution_count": 15,
   "metadata": {},
   "outputs": [
    {
     "name": "stdout",
     "output_type": "stream",
     "text": [
      "102\n"
     ]
    }
   ],
   "source": [
    "mean_stat1=mean_stat\n",
    "print ((mean_stat>=5).sum())\n",
    "mean_stat1[mean_stat<5]=0\n",
    "#print ((mean_stat<=5).sum())\n",
    "#mean_stat1[mean_stat>5]=0\n"
   ]
  },
  {
   "cell_type": "code",
   "execution_count": 17,
   "metadata": {},
   "outputs": [
    {
     "data": {
      "text/html": [
       "\n",
       "        <iframe\n",
       "            width=\"700\"\n",
       "            height=\"600\"\n",
       "            src=\"./map3.html\"\n",
       "            frameborder=\"0\"\n",
       "            allowfullscreen\n",
       "        ></iframe>\n",
       "        "
      ],
      "text/plain": [
       "<IPython.lib.display.IFrame at 0x118ed7f0>"
      ]
     },
     "execution_count": 17,
     "metadata": {},
     "output_type": "execute_result"
    }
   ],
   "source": [
    "# Строим карту и накладываем сетку по сумме поездок\n",
    "marker_sl=[[40.6854, -74.0307],'Statue of Liberty']\n",
    "#mean_stat1[49]=10\n",
    "map3=get_map(geo_json_data,mean_stat,marker_sl)\n",
    "map3.save('map3.html')\n",
    "#map3\n",
    "IFrame(src='./map3.html', width=700, height=600)"
   ]
  },
  {
   "cell_type": "code",
   "execution_count": 60,
   "metadata": {},
   "outputs": [
    {
     "data": {
      "text/plain": [
       "pandas.core.series.Series"
      ]
     },
     "execution_count": 60,
     "metadata": {},
     "output_type": "execute_result"
    }
   ],
   "source": [
    "type(mean_stat)"
   ]
  },
  {
   "cell_type": "code",
   "execution_count": 78,
   "metadata": {},
   "outputs": [],
   "source": [
    "df1 = pd.DataFrame(mean_stat)"
   ]
  },
  {
   "cell_type": "code",
   "execution_count": 79,
   "metadata": {},
   "outputs": [
    {
     "name": "stdout",
     "output_type": "stream",
     "text": [
      "<class 'pandas.core.frame.DataFrame'>\n",
      "Index: 2500 entries, cell1 to cell2500\n",
      "Data columns (total 1 columns):\n",
      "0    2500 non-null float64\n",
      "dtypes: float64(1)\n",
      "memory usage: 39.1+ KB\n"
     ]
    }
   ],
   "source": [
    "df1.info()"
   ]
  },
  {
   "cell_type": "code",
   "execution_count": 80,
   "metadata": {},
   "outputs": [
    {
     "name": "stdout",
     "output_type": "stream",
     "text": [
      "0    1217\n",
      "dtype: int64\n"
     ]
    }
   ],
   "source": [
    "print ((df1>0).sum())"
   ]
  },
  {
   "cell_type": "code",
   "execution_count": 81,
   "metadata": {},
   "outputs": [
    {
     "data": {
      "text/html": [
       "<div>\n",
       "<style scoped>\n",
       "    .dataframe tbody tr th:only-of-type {\n",
       "        vertical-align: middle;\n",
       "    }\n",
       "\n",
       "    .dataframe tbody tr th {\n",
       "        vertical-align: top;\n",
       "    }\n",
       "\n",
       "    .dataframe thead th {\n",
       "        text-align: right;\n",
       "    }\n",
       "</style>\n",
       "<table border=\"1\" class=\"dataframe\">\n",
       "  <thead>\n",
       "    <tr style=\"text-align: right;\">\n",
       "      <th></th>\n",
       "      <th>0</th>\n",
       "    </tr>\n",
       "  </thead>\n",
       "  <tbody>\n",
       "    <tr>\n",
       "      <th>cell1</th>\n",
       "      <td>0.000000</td>\n",
       "    </tr>\n",
       "    <tr>\n",
       "      <th>cell2</th>\n",
       "      <td>0.000000</td>\n",
       "    </tr>\n",
       "    <tr>\n",
       "      <th>cell3</th>\n",
       "      <td>0.000000</td>\n",
       "    </tr>\n",
       "    <tr>\n",
       "      <th>cell4</th>\n",
       "      <td>0.000000</td>\n",
       "    </tr>\n",
       "    <tr>\n",
       "      <th>cell5</th>\n",
       "      <td>0.000000</td>\n",
       "    </tr>\n",
       "    <tr>\n",
       "      <th>cell6</th>\n",
       "      <td>0.000000</td>\n",
       "    </tr>\n",
       "    <tr>\n",
       "      <th>cell7</th>\n",
       "      <td>0.000000</td>\n",
       "    </tr>\n",
       "    <tr>\n",
       "      <th>cell8</th>\n",
       "      <td>0.000000</td>\n",
       "    </tr>\n",
       "    <tr>\n",
       "      <th>cell9</th>\n",
       "      <td>0.000000</td>\n",
       "    </tr>\n",
       "    <tr>\n",
       "      <th>cell10</th>\n",
       "      <td>0.000000</td>\n",
       "    </tr>\n",
       "    <tr>\n",
       "      <th>cell11</th>\n",
       "      <td>0.000000</td>\n",
       "    </tr>\n",
       "    <tr>\n",
       "      <th>cell12</th>\n",
       "      <td>0.000000</td>\n",
       "    </tr>\n",
       "    <tr>\n",
       "      <th>cell13</th>\n",
       "      <td>0.000000</td>\n",
       "    </tr>\n",
       "    <tr>\n",
       "      <th>cell14</th>\n",
       "      <td>0.001344</td>\n",
       "    </tr>\n",
       "    <tr>\n",
       "      <th>cell15</th>\n",
       "      <td>0.001344</td>\n",
       "    </tr>\n",
       "    <tr>\n",
       "      <th>cell16</th>\n",
       "      <td>0.000000</td>\n",
       "    </tr>\n",
       "    <tr>\n",
       "      <th>cell17</th>\n",
       "      <td>0.000000</td>\n",
       "    </tr>\n",
       "    <tr>\n",
       "      <th>cell18</th>\n",
       "      <td>0.000000</td>\n",
       "    </tr>\n",
       "    <tr>\n",
       "      <th>cell19</th>\n",
       "      <td>0.000000</td>\n",
       "    </tr>\n",
       "    <tr>\n",
       "      <th>cell20</th>\n",
       "      <td>0.000000</td>\n",
       "    </tr>\n",
       "    <tr>\n",
       "      <th>cell21</th>\n",
       "      <td>0.000000</td>\n",
       "    </tr>\n",
       "    <tr>\n",
       "      <th>cell22</th>\n",
       "      <td>0.000000</td>\n",
       "    </tr>\n",
       "    <tr>\n",
       "      <th>cell23</th>\n",
       "      <td>0.000000</td>\n",
       "    </tr>\n",
       "    <tr>\n",
       "      <th>cell24</th>\n",
       "      <td>0.001344</td>\n",
       "    </tr>\n",
       "    <tr>\n",
       "      <th>cell25</th>\n",
       "      <td>0.000000</td>\n",
       "    </tr>\n",
       "    <tr>\n",
       "      <th>cell26</th>\n",
       "      <td>0.001344</td>\n",
       "    </tr>\n",
       "    <tr>\n",
       "      <th>cell27</th>\n",
       "      <td>0.000000</td>\n",
       "    </tr>\n",
       "    <tr>\n",
       "      <th>cell28</th>\n",
       "      <td>0.000000</td>\n",
       "    </tr>\n",
       "    <tr>\n",
       "      <th>cell29</th>\n",
       "      <td>0.000000</td>\n",
       "    </tr>\n",
       "    <tr>\n",
       "      <th>cell30</th>\n",
       "      <td>0.000000</td>\n",
       "    </tr>\n",
       "    <tr>\n",
       "      <th>cell31</th>\n",
       "      <td>0.025538</td>\n",
       "    </tr>\n",
       "    <tr>\n",
       "      <th>cell32</th>\n",
       "      <td>0.000000</td>\n",
       "    </tr>\n",
       "    <tr>\n",
       "      <th>cell33</th>\n",
       "      <td>0.000000</td>\n",
       "    </tr>\n",
       "    <tr>\n",
       "      <th>cell34</th>\n",
       "      <td>0.000000</td>\n",
       "    </tr>\n",
       "    <tr>\n",
       "      <th>cell35</th>\n",
       "      <td>0.000000</td>\n",
       "    </tr>\n",
       "    <tr>\n",
       "      <th>cell36</th>\n",
       "      <td>0.000000</td>\n",
       "    </tr>\n",
       "    <tr>\n",
       "      <th>cell37</th>\n",
       "      <td>0.000000</td>\n",
       "    </tr>\n",
       "    <tr>\n",
       "      <th>cell38</th>\n",
       "      <td>0.000000</td>\n",
       "    </tr>\n",
       "    <tr>\n",
       "      <th>cell39</th>\n",
       "      <td>0.000000</td>\n",
       "    </tr>\n",
       "    <tr>\n",
       "      <th>cell40</th>\n",
       "      <td>0.000000</td>\n",
       "    </tr>\n",
       "    <tr>\n",
       "      <th>cell41</th>\n",
       "      <td>0.000000</td>\n",
       "    </tr>\n",
       "    <tr>\n",
       "      <th>cell42</th>\n",
       "      <td>0.000000</td>\n",
       "    </tr>\n",
       "    <tr>\n",
       "      <th>cell43</th>\n",
       "      <td>0.000000</td>\n",
       "    </tr>\n",
       "    <tr>\n",
       "      <th>cell44</th>\n",
       "      <td>0.004032</td>\n",
       "    </tr>\n",
       "    <tr>\n",
       "      <th>cell45</th>\n",
       "      <td>0.000000</td>\n",
       "    </tr>\n",
       "    <tr>\n",
       "      <th>cell46</th>\n",
       "      <td>0.000000</td>\n",
       "    </tr>\n",
       "    <tr>\n",
       "      <th>cell47</th>\n",
       "      <td>0.000000</td>\n",
       "    </tr>\n",
       "    <tr>\n",
       "      <th>cell48</th>\n",
       "      <td>0.006720</td>\n",
       "    </tr>\n",
       "    <tr>\n",
       "      <th>cell49</th>\n",
       "      <td>0.000000</td>\n",
       "    </tr>\n",
       "    <tr>\n",
       "      <th>cell50</th>\n",
       "      <td>0.000000</td>\n",
       "    </tr>\n",
       "  </tbody>\n",
       "</table>\n",
       "</div>"
      ],
      "text/plain": [
       "               0\n",
       "cell1   0.000000\n",
       "cell2   0.000000\n",
       "cell3   0.000000\n",
       "cell4   0.000000\n",
       "cell5   0.000000\n",
       "cell6   0.000000\n",
       "cell7   0.000000\n",
       "cell8   0.000000\n",
       "cell9   0.000000\n",
       "cell10  0.000000\n",
       "cell11  0.000000\n",
       "cell12  0.000000\n",
       "cell13  0.000000\n",
       "cell14  0.001344\n",
       "cell15  0.001344\n",
       "cell16  0.000000\n",
       "cell17  0.000000\n",
       "cell18  0.000000\n",
       "cell19  0.000000\n",
       "cell20  0.000000\n",
       "cell21  0.000000\n",
       "cell22  0.000000\n",
       "cell23  0.000000\n",
       "cell24  0.001344\n",
       "cell25  0.000000\n",
       "cell26  0.001344\n",
       "cell27  0.000000\n",
       "cell28  0.000000\n",
       "cell29  0.000000\n",
       "cell30  0.000000\n",
       "cell31  0.025538\n",
       "cell32  0.000000\n",
       "cell33  0.000000\n",
       "cell34  0.000000\n",
       "cell35  0.000000\n",
       "cell36  0.000000\n",
       "cell37  0.000000\n",
       "cell38  0.000000\n",
       "cell39  0.000000\n",
       "cell40  0.000000\n",
       "cell41  0.000000\n",
       "cell42  0.000000\n",
       "cell43  0.000000\n",
       "cell44  0.004032\n",
       "cell45  0.000000\n",
       "cell46  0.000000\n",
       "cell47  0.000000\n",
       "cell48  0.006720\n",
       "cell49  0.000000\n",
       "cell50  0.000000"
      ]
     },
     "execution_count": 81,
     "metadata": {},
     "output_type": "execute_result"
    }
   ],
   "source": [
    "df1.head(50)"
   ]
  },
  {
   "cell_type": "code",
   "execution_count": 102,
   "metadata": {},
   "outputs": [],
   "source": [
    "import numpy as np\n",
    "int_=np.array([ 21.40871158,  33.47986973])"
   ]
  },
  {
   "cell_type": "code",
   "execution_count": 104,
   "metadata": {},
   "outputs": [],
   "source": [
    "def write_answer_to_file(answer, file_address):\n",
    "    with open(file_address, 'w') as out_f:\n",
    "        out_f.write(str(answer))\n",
    "write_answer_to_file('{} {}'.format(round(int_[0], 3),round(int_[1], 3)),\n",
    "                                    'ans2_5.txt')"
   ]
  },
  {
   "cell_type": "code",
   "execution_count": 105,
   "metadata": {},
   "outputs": [],
   "source": [
    "wilson_interval=(0.95010288414112865, 0.95705273772322286)\n",
    "write_answer_to_file('{} {}'.format(round(wilson_interval[0], 3),\n",
    "                                   round(wilson_interval[1], 3)), \n",
    "                     'answer2_4.txt')"
   ]
  },
  {
   "cell_type": "code",
   "execution_count": 106,
   "metadata": {},
   "outputs": [],
   "source": [
    "pi_val=0.022076537690726782\n",
    "write_answer_to_file(pi_val, \n",
    "                     'answer2_3.txt')"
   ]
  },
  {
   "cell_type": "code",
   "execution_count": 107,
   "metadata": {},
   "outputs": [],
   "source": [
    "write_answer_to_file(\"NO\", \n",
    "                     'answer2_2.txt')"
   ]
  },
  {
   "cell_type": "code",
   "execution_count": 108,
   "metadata": {},
   "outputs": [],
   "source": [
    "write_answer_to_file('14061 20087 20087 20087 28118 28118 28118 28118 137019 195712 195712 195712 273957 273957 273957 273957', \n",
    "                     'answer2_1.txt')"
   ]
  },
  {
   "cell_type": "code",
   "execution_count": null,
   "metadata": {},
   "outputs": [],
   "source": []
  }
 ],
 "metadata": {
  "kernelspec": {
   "display_name": "Python 2",
   "language": "python",
   "name": "python2"
  },
  "language_info": {
   "codemirror_mode": {
    "name": "ipython",
    "version": 2
   },
   "file_extension": ".py",
   "mimetype": "text/x-python",
   "name": "python",
   "nbconvert_exporter": "python",
   "pygments_lexer": "ipython2",
   "version": "2.7.16"
  }
 },
 "nbformat": 4,
 "nbformat_minor": 2
}
